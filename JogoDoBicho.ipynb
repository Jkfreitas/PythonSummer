{
 "cells": [
  {
   "cell_type": "code",
   "execution_count": 2,
   "metadata": {},
   "outputs": [
    {
     "name": "stdout",
     "output_type": "stream",
     "text": [
      "Resultado do Sorteio\n",
      "      ---- \n",
      "      4346\n",
      "      ---- \n",
      "      3760\n",
      "      ---- \n",
      "      6171\n",
      "      ---- \n",
      "      0390\n",
      "      ---- \n",
      "      2744\n",
      "      ---- \n"
     ]
    }
   ],
   "source": [
    "#Simulação do jogo do Bicho\n",
    "from random import randint\n",
    "\n",
    "Resultado = []\n",
    "sorteio = []\n",
    "\n",
    "while len(sorteio) <= 4:\n",
    "    r = randint(0, 9999) #Sorteia numeros aleatorios\n",
    "    if r not in sorteio:  #Percorre cada item da lista, transforma em string e imprime com 4 digitos\n",
    "        Digito = str(r)\n",
    "        sorteio.append(Digito.zfill(4)) #Exemplo: 86 será impresso como 0086\\n\n",
    "\n",
    "print(\"Resultado do Sorteio\")\n",
    "print(\"      ---- \")\n",
    "for i in sorteio:\n",
    "    print(\"{0:>10}\".format(i)) #imprimie alinhado\n",
    "    print(\"      ---- \")"
   ]
  },
  {
   "cell_type": "code",
   "execution_count": 118,
   "metadata": {},
   "outputs": [
    {
     "ename": "SyntaxError",
     "evalue": "invalid syntax (<ipython-input-118-8bac8c943a1b>, line 1)",
     "output_type": "error",
     "traceback": [
      "\u001b[1;36m  File \u001b[1;32m\"<ipython-input-118-8bac8c943a1b>\"\u001b[1;36m, line \u001b[1;32m1\u001b[0m\n\u001b[1;33m    17 18 19 20      53 54 55 56       77 78 79 80      81 82 83 84\u001b[0m\n\u001b[1;37m        ^\u001b[0m\n\u001b[1;31mSyntaxError\u001b[0m\u001b[1;31m:\u001b[0m invalid syntax\n"
     ]
    }
   ],
   "source": [
    "17 18 19 20      53 54 55 56       77 78 79 80      81 82 83 84 "
   ]
  }
 ],
 "metadata": {
  "kernelspec": {
   "display_name": "Python 3",
   "language": "python",
   "name": "python3"
  },
  "language_info": {
   "codemirror_mode": {
    "name": "ipython",
    "version": 3
   },
   "file_extension": ".py",
   "mimetype": "text/x-python",
   "name": "python",
   "nbconvert_exporter": "python",
   "pygments_lexer": "ipython3",
   "version": "3.9.0"
  }
 },
 "nbformat": 4,
 "nbformat_minor": 2
}
