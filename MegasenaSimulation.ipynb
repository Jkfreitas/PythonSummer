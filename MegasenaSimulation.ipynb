{
 "cells": [
  {
   "cell_type": "code",
   "execution_count": 6,
   "metadata": {},
   "outputs": [
    {
     "name": "stdout",
     "output_type": "stream",
     "text": [
      "*** Escolha 6 numeros entre 01 e 60 ***\n",
      "\n",
      " *** 01 02 03 04 05 06 07 08 09 10 ***\n",
      " *** 11 12 13 14 15 16 17 18 19 20 ***\n",
      " *** 31 32 33 34 35 36 37 38 39 30 ***\n",
      " *** 41 42 43 44 45 46 47 48 49 40 ***\n",
      " *** 51 52 53 54 55 56 57 58 59 60 ***\n",
      "\n",
      "Aposta: 1\n",
      "Aposta: 2\n",
      "Aposta: 3\n",
      "Aposta: 4\n",
      "Aposta: 5\n",
      "Aposta: 6\n",
      "\n",
      "SUA APOSTA: [1, 2, 3, 4, 5, 6]\n",
      "RESULTADO: [19, 23, 31, 35, 44, 49]\n",
      "\n",
      "TOTAL DE 0 ACERTO(S).\n"
     ]
    },
    {
     "data": {
      "text/plain": [
       "0"
      ]
     },
     "execution_count": 6,
     "metadata": {},
     "output_type": "execute_result"
    }
   ],
   "source": [
    "#SIMULAÇÃO MEGASENA\n",
    "import os \n",
    "from random import randint\n",
    " \n",
    "resultado = []\n",
    "aposta = []\n",
    "comparar = []\n",
    "\n",
    "print(\"*** Escolha 6 numeros entre 01 e 60 ***\\n\")\n",
    "print(\" *** 01 02 03 04 05 06 07 08 09 10 ***\")\n",
    "print(\" *** 11 12 13 14 15 16 17 18 19 20 ***\")\n",
    "print(\" *** 31 32 33 34 35 36 37 38 39 30 ***\")\n",
    "print(\" *** 41 42 43 44 45 46 47 48 49 40 ***\")\n",
    "print(\" *** 51 52 53 54 55 56 57 58 59 60 ***\\n\")\n",
    "\n",
    "while len(aposta) != 6:\n",
    "    geraAposta = int(input(\"Aposta: \"))\n",
    "    if (geraAposta <= 60) and (geraAposta >= 1) and geraAposta not in aposta:\n",
    "        aposta.append(geraAposta)\n",
    "        aposta.sort()\n",
    "        #print(\"PARCIAL: {}.\".format(aposta))\n",
    "    else:\n",
    "        print(\"Número inválido, escolha números de 01 até 60 e confira se o número já foi escolhido.\")\n",
    "\n",
    "aposta.sort()\n",
    "print(\"\\nSUA APOSTA: {}\".format(aposta))\n",
    "\n",
    "while len(resultado) != 6:\n",
    "    numeroResultado = randint(1, 60)\n",
    "    if numeroResultado not in resultado:\n",
    "        resultado.append(numeroResultado)\n",
    "        if numeroResultado in aposta:\n",
    "            comparar.append(numeroResultado)\n",
    "\n",
    "resultado.sort()\n",
    "print(\"RESULTADO: {}\".format(resultado))\n",
    "print(\"\\nTOTAL DE {} ACERTO(S).\".format(len(comparar)))\n",
    "\n",
    "if len(comparar) > 0:\n",
    "    print(\"DEZENAS ACERTADA(S): {}\".format(comparar))\n",
    "    \n",
    "os.system(\"pause\")"
   ]
  },
  {
   "cell_type": "code",
   "execution_count": null,
   "metadata": {},
   "outputs": [],
   "source": []
  }
 ],
 "metadata": {
  "kernelspec": {
   "display_name": "Python 3",
   "language": "python",
   "name": "python3"
  },
  "language_info": {
   "codemirror_mode": {
    "name": "ipython",
    "version": 3
   },
   "file_extension": ".py",
   "mimetype": "text/x-python",
   "name": "python",
   "nbconvert_exporter": "python",
   "pygments_lexer": "ipython3",
   "version": "3.9.0"
  }
 },
 "nbformat": 4,
 "nbformat_minor": 2
}
